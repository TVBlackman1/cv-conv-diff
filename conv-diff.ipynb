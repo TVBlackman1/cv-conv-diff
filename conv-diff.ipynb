{
 "cells": [
  {
   "cell_type": "code",
   "execution_count": 1,
   "id": "f3d8aefd-8aa4-4049-9181-adcebcee9560",
   "metadata": {},
   "outputs": [],
   "source": [
    "import numpy as np"
   ]
  },
  {
   "cell_type": "code",
   "execution_count": 2,
   "id": "283da9b1-5569-4a49-8206-82a54544e601",
   "metadata": {},
   "outputs": [],
   "source": [
    "def convolution2d(input_tensor, filters, stride=1, padding=0):\n",
    "    h, w, c = input_tensor.shape\n",
    "    num_filters, filter_h, filter_w, _ = filters.shape\n",
    "    \n",
    "    padded_input = np.pad(input_tensor, ((padding, padding), (padding, padding), (0, 0)), mode='constant')\n",
    "    \n",
    "    output_h = (h + 2 * padding - filter_h) // stride + 1\n",
    "    output_w = (w + 2 * padding - filter_w) // stride + 1\n",
    "    output_tensor = np.zeros((output_h, output_w, num_filters))\n",
    "    \n",
    "    for f in range(num_filters):\n",
    "        for i in range(output_h):\n",
    "            for j in range(output_w):\n",
    "                h_start = i * stride\n",
    "                h_end = h_start + filter_h\n",
    "                w_start = j * stride\n",
    "                w_end = w_start + filter_w\n",
    "                \n",
    "                output_tensor[i, j, f] = np.sum(padded_input[h_start:h_end, w_start:w_end, :] * filters[f])\n",
    "\n",
    "    return output_tensor"
   ]
  },
  {
   "cell_type": "code",
   "execution_count": 3,
   "id": "0fa56222-174b-4e62-a537-012fc344930e",
   "metadata": {},
   "outputs": [],
   "source": [
    "def depthwise_convolution(input_tensor, depthwise_filters, stride=1, padding=0):\n",
    "    h, w, c = input_tensor.shape\n",
    "    num_channels, filter_h, filter_w = depthwise_filters.shape\n",
    "    \n",
    "    assert c == num_channels\n",
    "    \n",
    "    padded_input = np.pad(input_tensor, ((padding, padding), (padding, padding), (0, 0)), mode='constant')\n",
    "    \n",
    "    output_h = (h + 2 * padding - filter_h) // stride + 1\n",
    "    output_w = (w + 2 * padding - filter_w) // stride + 1\n",
    "    output_tensor = np.zeros((output_h, output_w, num_channels))\n",
    "    \n",
    "    for c in range(num_channels):\n",
    "        for i in range(output_h):\n",
    "            for j in range(output_w):\n",
    "                h_start = i * stride\n",
    "                h_end = h_start + filter_h\n",
    "                w_start = j * stride\n",
    "                w_end = w_start + filter_w\n",
    "                \n",
    "                output_tensor[i, j, c] = np.sum(padded_input[h_start:h_end, w_start:w_end, c] * depthwise_filters[c])\n",
    "\n",
    "    return output_tensor\n",
    "\n",
    "def pointwise_convolution(input_tensor, pointwise_filters):\n",
    "    h, w, c = input_tensor.shape\n",
    "    num_output_channels, _ = pointwise_filters.shape\n",
    "    \n",
    "    output_tensor = np.zeros((h, w, num_output_channels))\n",
    "    \n",
    "    for out_c in range(num_output_channels):\n",
    "        for i in range(h):\n",
    "            for j in range(w):\n",
    "                output_tensor[i, j, out_c] = np.sum(input_tensor[i, j, :] * pointwise_filters[out_c])\n",
    "    \n",
    "    return output_tensor\n",
    "\n",
    "def depthwise_separable_convolution(input_tensor, depthwise_filters, pointwise_filters, stride=1, padding=0):\n",
    "    depthwise_output = depthwise_convolution(input_tensor, depthwise_filters, stride, padding)\n",
    "    output = pointwise_convolution(depthwise_output, pointwise_filters)\n",
    "    return output"
   ]
  },
  {
   "cell_type": "code",
   "execution_count": 8,
   "id": "642139f0-308e-4292-bffc-aec1271c7307",
   "metadata": {},
   "outputs": [],
   "source": [
    "input_tensor = np.random.rand(5, 5, 3)\n",
    "stride = 1\n",
    "padding = 1"
   ]
  },
  {
   "cell_type": "code",
   "execution_count": 11,
   "id": "94dafce5-014f-4f2f-b0ee-ffb3a172fb39",
   "metadata": {},
   "outputs": [
    {
     "name": "stdout",
     "output_type": "stream",
     "text": [
      "(5, 5, 2)\n"
     ]
    }
   ],
   "source": [
    "depthwise_filters = np.random.rand(3, 3, 3)\n",
    "pointwise_filters = np.random.rand(2, 3)\n",
    "\n",
    "def test_dsc():\n",
    "    output = depthwise_separable_convolution(input_tensor, depthwise_filters, pointwise_filters, stride, padding)\n",
    "    return output.shape\n",
    "print(test_dsc())"
   ]
  },
  {
   "cell_type": "code",
   "execution_count": 13,
   "id": "8bd74b83-8f01-47ba-bc0b-c7624e730f6a",
   "metadata": {},
   "outputs": [
    {
     "name": "stdout",
     "output_type": "stream",
     "text": [
      "(5, 5, 2)\n"
     ]
    }
   ],
   "source": [
    "filters = np.random.rand(2, 3, 3, 3)\n",
    "\n",
    "def test_c2d():\n",
    "    output = convolution2d(input_tensor, filters, stride, padding)\n",
    "    return output.shape\n",
    "print(test_c2d())"
   ]
  },
  {
   "cell_type": "code",
   "execution_count": 14,
   "id": "0e8f1303-377e-4096-95df-57d9d7d90c13",
   "metadata": {},
   "outputs": [
    {
     "name": "stdout",
     "output_type": "stream",
     "text": [
      "Время выполнения convolution 2d: 0.1987787660000322s\n",
      "Время выполнения depthwise separable convolution: 0.34832910699969943s\n"
     ]
    }
   ],
   "source": [
    "import timeit\n",
    "\n",
    "time_c2d = timeit.timeit(test_c2d, number=1000)\n",
    "print(f\"Время выполнения convolution 2d: {time_c2d}s\")\n",
    "time_dsc = timeit.timeit(test_dsc, number=1000)\n",
    "print(f\"Время выполнения depthwise separable convolution: {time_dsc}s\")"
   ]
  },
  {
   "cell_type": "code",
   "execution_count": null,
   "id": "b420998e-7500-44a0-915c-5b9ceaf1ee0b",
   "metadata": {},
   "outputs": [],
   "source": []
  }
 ],
 "metadata": {
  "kernelspec": {
   "display_name": "Python 3 (ipykernel)",
   "language": "python",
   "name": "python3"
  },
  "language_info": {
   "codemirror_mode": {
    "name": "ipython",
    "version": 3
   },
   "file_extension": ".py",
   "mimetype": "text/x-python",
   "name": "python",
   "nbconvert_exporter": "python",
   "pygments_lexer": "ipython3",
   "version": "3.12.7"
  }
 },
 "nbformat": 4,
 "nbformat_minor": 5
}
